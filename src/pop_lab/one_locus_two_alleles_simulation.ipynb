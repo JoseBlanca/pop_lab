{
 "cells": [
  {
   "cell_type": "code",
   "execution_count": null,
   "metadata": {},
   "outputs": [],
   "source": [
    "from IPython.display import display\n",
    "from ipywidgets import VBox\n",
    "\n",
    "from widgets import GenoFreqsWidget\n",
    "\n",
    "\n",
    "class OneLocusSimApp:\n",
    "    def __init__(self):\n",
    "        self.app_title = \"One locus simulator\"\n",
    "\n",
    "    def _generate_layout(self):\n",
    "        geno_freqs_widget = GenoFreqsWidget(0.3, 0.3)\n",
    "        return VBox([geno_freqs_widget])\n",
    "\n",
    "\n",
    "    def run_application(self):\n",
    "        display(self._generate_layout())\n",
    "\n",
    "\n",
    "app = OneLocusSimApp()\n",
    "app.run_application()"
   ]
  }
 ],
 "metadata": {
  "kernelspec": {
   "display_name": ".venv",
   "language": "python",
   "name": "python3"
  },
  "language_info": {
   "codemirror_mode": {
    "name": "ipython",
    "version": 3
   },
   "file_extension": ".py",
   "mimetype": "text/x-python",
   "name": "python",
   "nbconvert_exporter": "python",
   "pygments_lexer": "ipython3",
   "version": "3.12.2"
  }
 },
 "nbformat": 4,
 "nbformat_minor": 2
}
