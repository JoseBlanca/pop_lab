{
 "cells": [
  {
   "cell_type": "code",
   "execution_count": null,
   "metadata": {},
   "outputs": [],
   "source": [
    "from IPython.display import display\n",
    "from ipywidgets import VBox\n",
    "\n",
    "from widgets import GenoFreqsWidget, PopSizeWidget, NumGenerationsWidget\n",
    "\n",
    "\n",
    "class OneLocusSimApp:\n",
    "    def __init__(self):\n",
    "        self.app_title = \"One locus simulator\"\n",
    "\n",
    "    def _generate_layout(self):\n",
    "        pop_size_widget = PopSizeWidget(default_size=100, max_size=1000)\n",
    "        geno_freqs_widget = GenoFreqsWidget(0.3, 0.3)\n",
    "        num_gen_widget = NumGenerationsWidget(min_num=10, max_num=100, default_num=20)\n",
    "        return VBox([geno_freqs_widget, pop_size_widget, num_gen_widget])\n",
    "\n",
    "\n",
    "    def run_application(self):\n",
    "        display(self._generate_layout())\n",
    "\n",
    "\n",
    "app = OneLocusSimApp()\n",
    "app.run_application()"
   ]
  }
 ],
 "metadata": {
  "kernelspec": {
   "display_name": ".venv",
   "language": "python",
   "name": "python3"
  },
  "language_info": {
   "codemirror_mode": {
    "name": "ipython",
    "version": 3
   },
   "file_extension": ".py",
   "mimetype": "text/x-python",
   "name": "python",
   "nbconvert_exporter": "python",
   "pygments_lexer": "ipython3",
   "version": "3.12.2"
  }
 },
 "nbformat": 4,
 "nbformat_minor": 2
}
