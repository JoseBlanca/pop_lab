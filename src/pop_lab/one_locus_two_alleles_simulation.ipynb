{
 "cells": [
  {
   "cell_type": "code",
   "execution_count": 6,
   "metadata": {},
   "outputs": [
    {
     "data": {
      "application/vnd.jupyter.widget-view+json": {
       "model_id": "08a6934502d144399c25aee5bb2c62b5",
       "version_major": 2,
       "version_minor": 0
      },
      "text/plain": [
       "VBox(children=(GenoFreqsWidget(children=(VBox(children=(HBox(children=(FloatText(value=0.45, description='Freq…"
      ]
     },
     "metadata": {},
     "output_type": "display_data"
    },
    {
     "name": "stdout",
     "output_type": "stream",
     "text": [
      "None\n"
     ]
    }
   ],
   "source": [
    "from IPython.display import display\n",
    "import ipywidgets\n",
    "\n",
    "from widgets import GenoFreqsWidget, PopSizeWidget, NumGenerationsWidget\n",
    "\n",
    "\n",
    "class OneLocusSimApp:\n",
    "    def __init__(self):\n",
    "        self.app_title = \"One locus simulator\"\n",
    "\n",
    "    def _generate_layout(self):\n",
    "        children_widgets = []\n",
    "        self.pop_size_widget = PopSizeWidget(default_size=100, max_size=1000)\n",
    "        self.geno_freqs_widget = GenoFreqsWidget(0.3, 0.3)\n",
    "        self.num_gen_widget = NumGenerationsWidget(min_num=10, max_num=100, default_num=20)\n",
    "        children_widgets.extend([self.geno_freqs_widget, self.pop_size_widget, self.num_gen_widget])\n",
    "\n",
    "        self.output_widget = ipywidgets.Output()\n",
    "        children_widgets.append(self.output_widget)\n",
    "\n",
    "        self.run_button = ipywidgets.Button(description=\"Run\")\n",
    "        self.run_button.on_click(self.update_output)\n",
    "        children_widgets.append(self.run_button)\n",
    "\n",
    "        return ipywidgets.VBox(children_widgets)\n",
    "\n",
    "    def run_application(self):\n",
    "        display(self._generate_layout())\n",
    "\n",
    "    def get_sim_params(self):\n",
    "        params = {}\n",
    "        params['pop_size'] = self.pop_size_widget.size\n",
    "        params['num_gen'] = self.num_gen_widget.num_generations\n",
    "        params['geno_freqs'] = self.geno_freqs_widget.geno_freqs\n",
    "        return params\n",
    "\n",
    "    def update_output(self, *_):\n",
    "        ipywidgets.interaction.show_inline_matplotlib_plots()\n",
    "\n",
    "        sim_params = self.get_sim_params()\n",
    "        print(sim_params)\n",
    "    \n",
    "        with self.output_widget:        \n",
    "            ipywidgets.interaction.show_inline_matplotlib_plots()\n",
    "\n",
    "\n",
    "app = OneLocusSimApp()\n",
    "app.run_application()"
   ]
  }
 ],
 "metadata": {
  "kernelspec": {
   "display_name": ".venv",
   "language": "python",
   "name": "python3"
  },
  "language_info": {
   "codemirror_mode": {
    "name": "ipython",
    "version": 3
   },
   "file_extension": ".py",
   "mimetype": "text/x-python",
   "name": "python",
   "nbconvert_exporter": "python",
   "pygments_lexer": "ipython3",
   "version": "3.12.2"
  }
 },
 "nbformat": 4,
 "nbformat_minor": 2
}
